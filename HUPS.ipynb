{
 "cells": [
  {
   "cell_type": "code",
   "execution_count": 1,
   "metadata": {
    "collapsed": true
   },
   "outputs": [],
   "source": [
    "from IPython.display import Image, display\n",
    "import matplotlib.pyplot as plt\n",
    "from hups_utilities import *\n",
    "import random\n",
    "import numpy as np\n",
    "from deepNeuralNetwork import *\n",
    "from collections import OrderedDict\n",
    "from collections import Counter\n",
    "from dnn_app_utils_v2 import *\n",
    "from game import *"
   ]
  },
  {
   "cell_type": "code",
   "execution_count": 14,
   "metadata": {
    "scrolled": false
   },
   "outputs": [
    {
     "name": "stdout",
     "output_type": "stream",
     "text": [
      "0\n",
      "5\n",
      "8\n"
     ]
    },
    {
     "ename": "KeyboardInterrupt",
     "evalue": "",
     "output_type": "error",
     "traceback": [
      "\u001b[1;31m---------------------------------------------------------------------------\u001b[0m",
      "\u001b[1;31mKeyboardInterrupt\u001b[0m                         Traceback (most recent call last)",
      "\u001b[1;32m<ipython-input-14-fe85586280a6>\u001b[0m in \u001b[0;36m<module>\u001b[1;34m()\u001b[0m\n\u001b[0;32m     22\u001b[0m     \u001b[0mneural_chips\u001b[0m \u001b[1;33m=\u001b[0m \u001b[1;36m0\u001b[0m\u001b[1;33m\u001b[0m\u001b[0m\n\u001b[0;32m     23\u001b[0m     \u001b[1;32mfor\u001b[0m \u001b[0mg\u001b[0m \u001b[1;32min\u001b[0m \u001b[0mrange\u001b[0m\u001b[1;33m(\u001b[0m\u001b[0mnumber_games\u001b[0m\u001b[1;33m)\u001b[0m\u001b[1;33m:\u001b[0m\u001b[1;33m\u001b[0m\u001b[0m\n\u001b[1;32m---> 24\u001b[1;33m         \u001b[0mgames\u001b[0m\u001b[1;33m[\u001b[0m\u001b[0mg\u001b[0m\u001b[1;33m]\u001b[0m\u001b[1;33m.\u001b[0m\u001b[0mnextHand\u001b[0m\u001b[1;33m(\u001b[0m\u001b[1;33m)\u001b[0m\u001b[1;33m\u001b[0m\u001b[0m\n\u001b[0m\u001b[0;32m     25\u001b[0m         \u001b[0mneural_chips\u001b[0m \u001b[1;33m+=\u001b[0m \u001b[0mneural_players\u001b[0m\u001b[1;33m[\u001b[0m\u001b[0mg\u001b[0m\u001b[1;33m]\u001b[0m\u001b[1;33m.\u001b[0m\u001b[0mchips\u001b[0m\u001b[1;33m\u001b[0m\u001b[0m\n\u001b[0;32m     26\u001b[0m     \u001b[0mneural_chip_results\u001b[0m\u001b[1;33m.\u001b[0m\u001b[0mappend\u001b[0m\u001b[1;33m(\u001b[0m\u001b[0mneural_chips\u001b[0m\u001b[1;33m/\u001b[0m\u001b[0mnumber_games\u001b[0m\u001b[1;33m)\u001b[0m\u001b[1;33m\u001b[0m\u001b[0m\n",
      "\u001b[1;32mC:\\Users\\Alexander\\Desktop\\HUPS-master\\game.pyc\u001b[0m in \u001b[0;36mnextHand\u001b[1;34m(self)\u001b[0m\n\u001b[0;32m    317\u001b[0m \u001b[1;33m\u001b[0m\u001b[0m\n\u001b[0;32m    318\u001b[0m     \u001b[1;32mdef\u001b[0m \u001b[0mnextHand\u001b[0m\u001b[1;33m(\u001b[0m\u001b[0mself\u001b[0m\u001b[1;33m)\u001b[0m\u001b[1;33m:\u001b[0m\u001b[1;33m\u001b[0m\u001b[0m\n\u001b[1;32m--> 319\u001b[1;33m         \u001b[0mself\u001b[0m\u001b[1;33m.\u001b[0m\u001b[0mnewHandCleanup\u001b[0m\u001b[1;33m(\u001b[0m\u001b[1;33m)\u001b[0m\u001b[1;33m\u001b[0m\u001b[0m\n\u001b[0m\u001b[0;32m    320\u001b[0m         \u001b[1;32mfor\u001b[0m \u001b[0mx\u001b[0m \u001b[1;32min\u001b[0m \u001b[0mrange\u001b[0m\u001b[1;33m(\u001b[0m\u001b[0mlen\u001b[0m\u001b[1;33m(\u001b[0m\u001b[0mself\u001b[0m\u001b[1;33m.\u001b[0m\u001b[0mplayers\u001b[0m\u001b[1;33m)\u001b[0m\u001b[1;33m)\u001b[0m\u001b[1;33m:\u001b[0m\u001b[1;33m\u001b[0m\u001b[0m\n\u001b[0;32m    321\u001b[0m             \u001b[0mcards\u001b[0m \u001b[1;33m=\u001b[0m \u001b[0mself\u001b[0m\u001b[1;33m.\u001b[0m\u001b[0mdeck\u001b[0m\u001b[1;33m.\u001b[0m\u001b[0mdeal\u001b[0m\u001b[1;33m(\u001b[0m\u001b[1;36m2\u001b[0m\u001b[1;33m)\u001b[0m\u001b[1;33m\u001b[0m\u001b[0m\n",
      "\u001b[1;32mC:\\Users\\Alexander\\Desktop\\HUPS-master\\game.pyc\u001b[0m in \u001b[0;36mnewHandCleanup\u001b[1;34m(self)\u001b[0m\n\u001b[0;32m    314\u001b[0m         \u001b[0mself\u001b[0m\u001b[1;33m.\u001b[0m\u001b[0mhandsPlayed\u001b[0m \u001b[1;33m+=\u001b[0m \u001b[1;36m1\u001b[0m\u001b[1;33m\u001b[0m\u001b[0m\n\u001b[0;32m    315\u001b[0m         \u001b[1;32mfor\u001b[0m \u001b[0mx\u001b[0m \u001b[1;32min\u001b[0m \u001b[0mself\u001b[0m\u001b[1;33m.\u001b[0m\u001b[0mplayers\u001b[0m\u001b[1;33m:\u001b[0m\u001b[1;33m\u001b[0m\u001b[0m\n\u001b[1;32m--> 316\u001b[1;33m             \u001b[0mx\u001b[0m\u001b[1;33m.\u001b[0m\u001b[0mnewHand\u001b[0m\u001b[1;33m(\u001b[0m\u001b[1;33m)\u001b[0m\u001b[1;33m\u001b[0m\u001b[0m\n\u001b[0m\u001b[0;32m    317\u001b[0m \u001b[1;33m\u001b[0m\u001b[0m\n\u001b[0;32m    318\u001b[0m     \u001b[1;32mdef\u001b[0m \u001b[0mnextHand\u001b[0m\u001b[1;33m(\u001b[0m\u001b[0mself\u001b[0m\u001b[1;33m)\u001b[0m\u001b[1;33m:\u001b[0m\u001b[1;33m\u001b[0m\u001b[0m\n",
      "\u001b[1;32m<ipython-input-12-45b0464a634d>\u001b[0m in \u001b[0;36mnewHand\u001b[1;34m(self)\u001b[0m\n\u001b[0;32m     28\u001b[0m     \u001b[1;32mdef\u001b[0m \u001b[0mnewHand\u001b[0m\u001b[1;33m(\u001b[0m\u001b[0mself\u001b[0m\u001b[1;33m)\u001b[0m\u001b[1;33m:\u001b[0m\u001b[1;33m\u001b[0m\u001b[0m\n\u001b[0;32m     29\u001b[0m         \u001b[1;32mif\u001b[0m \u001b[0mself\u001b[0m\u001b[1;33m.\u001b[0m\u001b[0mhands\u001b[0m \u001b[1;33m%\u001b[0m \u001b[1;36m10\u001b[0m \u001b[1;33m==\u001b[0m \u001b[1;36m0\u001b[0m\u001b[1;33m:\u001b[0m\u001b[1;33m\u001b[0m\u001b[0m\n\u001b[1;32m---> 30\u001b[1;33m             \u001b[0mself\u001b[0m\u001b[1;33m.\u001b[0m\u001b[0mupdateHandRange\u001b[0m\u001b[1;33m(\u001b[0m\u001b[1;33m)\u001b[0m\u001b[1;33m\u001b[0m\u001b[0m\n\u001b[0m\u001b[0;32m     31\u001b[0m         \u001b[0mself\u001b[0m\u001b[1;33m.\u001b[0m\u001b[0mcurrentRange\u001b[0m \u001b[1;33m=\u001b[0m \u001b[0mself\u001b[0m\u001b[1;33m.\u001b[0m\u001b[0mpreflopHandOdds\u001b[0m\u001b[1;33m\u001b[0m\u001b[0m\n\u001b[0;32m     32\u001b[0m         \u001b[0mself\u001b[0m\u001b[1;33m.\u001b[0m\u001b[0mhands\u001b[0m \u001b[1;33m+=\u001b[0m \u001b[1;36m1\u001b[0m\u001b[1;33m\u001b[0m\u001b[0m\n",
      "\u001b[1;32m<ipython-input-12-45b0464a634d>\u001b[0m in \u001b[0;36mupdateHandRange\u001b[1;34m(self)\u001b[0m\n\u001b[0;32m     83\u001b[0m             \u001b[0mlayers_dims\u001b[0m \u001b[1;33m=\u001b[0m \u001b[1;33m[\u001b[0m\u001b[0mn_x\u001b[0m\u001b[1;33m,\u001b[0m \u001b[1;36m50\u001b[0m\u001b[1;33m,\u001b[0m \u001b[1;36m12\u001b[0m\u001b[1;33m,\u001b[0m \u001b[1;36m5\u001b[0m\u001b[1;33m,\u001b[0m \u001b[0mn_y\u001b[0m\u001b[1;33m]\u001b[0m \u001b[1;31m#  This determines how many hidden layers the network will use\u001b[0m\u001b[1;33m\u001b[0m\u001b[0m\n\u001b[0;32m     84\u001b[0m \u001b[1;33m\u001b[0m\u001b[0m\n\u001b[1;32m---> 85\u001b[1;33m             \u001b[0mparameters\u001b[0m \u001b[1;33m=\u001b[0m \u001b[0mL_layer_model\u001b[0m\u001b[1;33m(\u001b[0m\u001b[0mtrain_x\u001b[0m\u001b[1;33m,\u001b[0m \u001b[0mtrain_y\u001b[0m\u001b[1;33m,\u001b[0m \u001b[0mlayers_dims\u001b[0m\u001b[1;33m,\u001b[0m \u001b[0mlearning_rate\u001b[0m \u001b[1;33m=\u001b[0m \u001b[1;36m.2\u001b[0m\u001b[1;33m,\u001b[0m \u001b[0mnum_iterations\u001b[0m \u001b[1;33m=\u001b[0m \u001b[1;36m100\u001b[0m\u001b[1;33m,\u001b[0m \u001b[0mprint_cost\u001b[0m \u001b[1;33m=\u001b[0m \u001b[0mFalse\u001b[0m\u001b[1;33m,\u001b[0m \u001b[0mplotGraph\u001b[0m \u001b[1;33m=\u001b[0m \u001b[0mFalse\u001b[0m\u001b[1;33m,\u001b[0m \u001b[0mparams\u001b[0m \u001b[1;33m=\u001b[0m \u001b[0mself\u001b[0m\u001b[1;33m.\u001b[0m\u001b[0mneuralParameters\u001b[0m\u001b[1;33m)\u001b[0m\u001b[1;33m\u001b[0m\u001b[0m\n\u001b[0m\u001b[0;32m     86\u001b[0m             \u001b[0mself\u001b[0m\u001b[1;33m.\u001b[0m\u001b[0mneuralParameters\u001b[0m \u001b[1;33m=\u001b[0m \u001b[0mparameters\u001b[0m\u001b[1;33m\u001b[0m\u001b[0m\n\u001b[0;32m     87\u001b[0m \u001b[1;33m\u001b[0m\u001b[0m\n",
      "\u001b[1;32mC:\\Users\\Alexander\\Desktop\\HUPS-master\\deepNeuralNetwork.pyc\u001b[0m in \u001b[0;36mL_layer_model\u001b[1;34m(X, Y, layers_dims, learning_rate, num_iterations, print_cost, plotGraph, params)\u001b[0m\n\u001b[0;32m    110\u001b[0m \u001b[1;33m\u001b[0m\u001b[0m\n\u001b[0;32m    111\u001b[0m         \u001b[1;31m# Forward propagation: [LINEAR -> RELU]*(L-1) -> LINEAR -> SIGMOID.\u001b[0m\u001b[1;33m\u001b[0m\u001b[1;33m\u001b[0m\u001b[0m\n\u001b[1;32m--> 112\u001b[1;33m         \u001b[0mAL\u001b[0m\u001b[1;33m,\u001b[0m \u001b[0mcaches\u001b[0m \u001b[1;33m=\u001b[0m \u001b[0mL_model_forward\u001b[0m\u001b[1;33m(\u001b[0m\u001b[0mX\u001b[0m\u001b[1;33m,\u001b[0m \u001b[0mparameters\u001b[0m\u001b[1;33m)\u001b[0m\u001b[1;33m\u001b[0m\u001b[0m\n\u001b[0m\u001b[0;32m    113\u001b[0m \u001b[1;33m\u001b[0m\u001b[0m\n\u001b[0;32m    114\u001b[0m \u001b[1;33m\u001b[0m\u001b[0m\n",
      "\u001b[1;32mC:\\Users\\Alexander\\Desktop\\HUPS-master\\dnn_app_utils_v2.pyc\u001b[0m in \u001b[0;36mL_model_forward\u001b[1;34m(X, parameters)\u001b[0m\n\u001b[0;32m    119\u001b[0m     \u001b[1;32mfor\u001b[0m \u001b[0ml\u001b[0m \u001b[1;32min\u001b[0m \u001b[0mrange\u001b[0m\u001b[1;33m(\u001b[0m\u001b[1;36m1\u001b[0m\u001b[1;33m,\u001b[0m \u001b[0mL\u001b[0m\u001b[1;33m)\u001b[0m\u001b[1;33m:\u001b[0m\u001b[1;33m\u001b[0m\u001b[0m\n\u001b[0;32m    120\u001b[0m         \u001b[0mA_prev\u001b[0m \u001b[1;33m=\u001b[0m \u001b[0mA\u001b[0m\u001b[1;33m\u001b[0m\u001b[0m\n\u001b[1;32m--> 121\u001b[1;33m         \u001b[0mA\u001b[0m\u001b[1;33m,\u001b[0m \u001b[0mcache\u001b[0m \u001b[1;33m=\u001b[0m \u001b[0mlinear_activation_forward\u001b[0m\u001b[1;33m(\u001b[0m\u001b[0mA_prev\u001b[0m\u001b[1;33m,\u001b[0m \u001b[0mparameters\u001b[0m\u001b[1;33m[\u001b[0m\u001b[1;34m'W'\u001b[0m \u001b[1;33m+\u001b[0m \u001b[0mstr\u001b[0m\u001b[1;33m(\u001b[0m\u001b[0ml\u001b[0m\u001b[1;33m)\u001b[0m\u001b[1;33m]\u001b[0m\u001b[1;33m,\u001b[0m \u001b[0mparameters\u001b[0m\u001b[1;33m[\u001b[0m\u001b[1;34m'b'\u001b[0m \u001b[1;33m+\u001b[0m \u001b[0mstr\u001b[0m\u001b[1;33m(\u001b[0m\u001b[0ml\u001b[0m\u001b[1;33m)\u001b[0m\u001b[1;33m]\u001b[0m\u001b[1;33m,\u001b[0m \u001b[0mactivation\u001b[0m \u001b[1;33m=\u001b[0m \u001b[1;34m\"relu\"\u001b[0m\u001b[1;33m)\u001b[0m\u001b[1;33m\u001b[0m\u001b[0m\n\u001b[0m\u001b[0;32m    122\u001b[0m         \u001b[0mcaches\u001b[0m\u001b[1;33m.\u001b[0m\u001b[0mappend\u001b[0m\u001b[1;33m(\u001b[0m\u001b[0mcache\u001b[0m\u001b[1;33m)\u001b[0m\u001b[1;33m\u001b[0m\u001b[0m\n\u001b[0;32m    123\u001b[0m \u001b[1;33m\u001b[0m\u001b[0m\n",
      "\u001b[1;32mC:\\Users\\Alexander\\Desktop\\HUPS-master\\dnn_app_utils_v2.pyc\u001b[0m in \u001b[0;36mlinear_activation_forward\u001b[1;34m(A_prev, W, b, activation)\u001b[0m\n\u001b[0;32m    102\u001b[0m     \u001b[1;32melif\u001b[0m \u001b[0mactivation\u001b[0m \u001b[1;33m==\u001b[0m \u001b[1;34m\"relu\"\u001b[0m\u001b[1;33m:\u001b[0m\u001b[1;33m\u001b[0m\u001b[0m\n\u001b[0;32m    103\u001b[0m         \u001b[1;31m# Inputs: \"A_prev, W, b\". Outputs: \"A, activation_cache\".\u001b[0m\u001b[1;33m\u001b[0m\u001b[1;33m\u001b[0m\u001b[0m\n\u001b[1;32m--> 104\u001b[1;33m         \u001b[0mZ\u001b[0m\u001b[1;33m,\u001b[0m \u001b[0mlinear_cache\u001b[0m \u001b[1;33m=\u001b[0m \u001b[0mlinear_forward\u001b[0m\u001b[1;33m(\u001b[0m\u001b[0mA_prev\u001b[0m\u001b[1;33m,\u001b[0m \u001b[0mW\u001b[0m\u001b[1;33m,\u001b[0m \u001b[0mb\u001b[0m\u001b[1;33m)\u001b[0m\u001b[1;33m\u001b[0m\u001b[0m\n\u001b[0m\u001b[0;32m    105\u001b[0m         \u001b[0mA\u001b[0m\u001b[1;33m,\u001b[0m \u001b[0mactivation_cache\u001b[0m \u001b[1;33m=\u001b[0m \u001b[0mrelu\u001b[0m\u001b[1;33m(\u001b[0m\u001b[0mZ\u001b[0m\u001b[1;33m)\u001b[0m\u001b[1;33m\u001b[0m\u001b[0m\n\u001b[0;32m    106\u001b[0m \u001b[1;33m\u001b[0m\u001b[0m\n",
      "\u001b[1;32mC:\\Users\\Alexander\\Desktop\\HUPS-master\\dnn_app_utils_v2.pyc\u001b[0m in \u001b[0;36mlinear_forward\u001b[1;34m(A, W, b)\u001b[0m\n\u001b[0;32m     91\u001b[0m     \u001b[0mcache\u001b[0m \u001b[1;33m=\u001b[0m \u001b[1;33m(\u001b[0m\u001b[0mA\u001b[0m\u001b[1;33m,\u001b[0m \u001b[0mW\u001b[0m\u001b[1;33m,\u001b[0m \u001b[0mb\u001b[0m\u001b[1;33m)\u001b[0m\u001b[1;33m\u001b[0m\u001b[0m\n\u001b[0;32m     92\u001b[0m \u001b[1;33m\u001b[0m\u001b[0m\n\u001b[1;32m---> 93\u001b[1;33m     \u001b[1;32mreturn\u001b[0m \u001b[0mZ\u001b[0m\u001b[1;33m,\u001b[0m \u001b[0mcache\u001b[0m\u001b[1;33m\u001b[0m\u001b[0m\n\u001b[0m\u001b[0;32m     94\u001b[0m \u001b[1;33m\u001b[0m\u001b[0m\n\u001b[0;32m     95\u001b[0m \u001b[1;32mdef\u001b[0m \u001b[0mlinear_activation_forward\u001b[0m\u001b[1;33m(\u001b[0m\u001b[0mA_prev\u001b[0m\u001b[1;33m,\u001b[0m \u001b[0mW\u001b[0m\u001b[1;33m,\u001b[0m \u001b[0mb\u001b[0m\u001b[1;33m,\u001b[0m \u001b[0mactivation\u001b[0m\u001b[1;33m)\u001b[0m\u001b[1;33m:\u001b[0m\u001b[1;33m\u001b[0m\u001b[0m\n",
      "\u001b[1;31mKeyboardInterrupt\u001b[0m: "
     ]
    }
   ],
   "source": [
    "gto_players = []\n",
    "neural_players = []\n",
    "games = []\n",
    "number_games = 1000\n",
    "number_hands = 10000\n",
    "neural_chips = 0\n",
    "neural_chip_results = []\n",
    "\n",
    "for i in range(number_games):\n",
    "    gto_player = Player(True, 2)\n",
    "    neural_player = Player(True, 3)\n",
    "    game = Game([neural_player, gto_player])\n",
    "    game.output = False\n",
    "    \n",
    "    gto_player.game, neural_player.game = game, game\n",
    "    \n",
    "    gto_players.append(gto_player)\n",
    "    neural_players.append(neural_player)\n",
    "    games.append(game)\n",
    "    \n",
    "for h in range(number_hands):\n",
    "    neural_chips = 0\n",
    "    for g in range(number_games):\n",
    "        games[g].nextHand()\n",
    "        neural_chips += neural_players[g].chips\n",
    "    neural_chip_results.append(neural_chips/number_games)\n",
    "    if h % 10 == 0:\n",
    "        print neural_chip_results[h]"
   ]
  },
  {
   "cell_type": "code",
   "execution_count": 13,
   "metadata": {},
   "outputs": [
    {
     "data": {
      "text/plain": [
       "'\\nprint player1.preflopHandOdds\\nprint player2.preflopHandOdds\\n\\nprint createPreflopOrderedRange(game.getHandPercentages())\\nprint (createPreflopOrderedRange(np.loadtxt(\"data\", unpack=True)))\\n'"
      ]
     },
     "execution_count": 13,
     "metadata": {},
     "output_type": "execute_result"
    }
   ],
   "source": [
    "player1 = Player(True, 2)\n",
    "player2 = Player(True, 3)\n",
    "game = Game([player1, player2])\n",
    "player1.game = game\n",
    "player2.game = game\n",
    "game.output = False\n",
    "hands = 0\n",
    "\n",
    "for i in range(hands):\n",
    "    game.nextHand()\n",
    "    if i % 100000 == 0:\n",
    "        print player2.chips\n",
    "    \n",
    "'''\n",
    "print player1.preflopHandOdds\n",
    "print player2.preflopHandOdds\n",
    "\n",
    "print createPreflopOrderedRange(game.getHandPercentages())\n",
    "print (createPreflopOrderedRange(np.loadtxt(\"data\", unpack=True)))\n",
    "'''"
   ]
  },
  {
   "cell_type": "code",
   "execution_count": 12,
   "metadata": {},
   "outputs": [],
   "source": [
    "class Player:\n",
    "    game = None\n",
    "    isAI = True\n",
    "    AIlevel = 1\n",
    "    chips = 0\n",
    "    bankroll = 999000\n",
    "    hands = 0\n",
    "    neuralParameters = None\n",
    "    raisePercent = 1./3\n",
    "    callPercent = 2./3\n",
    "    hand = []\n",
    "    preflopHandOdds = []\n",
    "    currentRange = []\n",
    "    decisions = ['Fold', 'Call', 'Check', 'Bet', 'Raise']\n",
    "    aiType = {1 : 'Calling Station', 2 : 'GTO', 3 : 'NeuralGTO'}\n",
    "    \n",
    "    def __init__(self, isAI = True, AIlevel = 1):\n",
    "        self.isAI = isAI\n",
    "        self.AIlevel = AIlevel\n",
    "        if isAI:\n",
    "            #self.preflopHandOdds = OrderedDict(createPreflopOrderedRange(np.loadtxt(\"data\", unpack=True)))\n",
    "        \n",
    "            '''\n",
    "            if AIlevel in [2, 3]:\n",
    "                self.updateHandRange()\n",
    "            '''\n",
    "            \n",
    "    def newHand(self):\n",
    "        if self.hands % 10 == 0:\n",
    "            self.updateHandRange()\n",
    "        self.currentRange = self.preflopHandOdds\n",
    "        self.hands += 1\n",
    "    \n",
    "    def generateHandAbbreviation(self):\n",
    "        suited = 'o'\n",
    "        if self.hand[0].suit == self.hand[1].suit:\n",
    "            suited = 's'\n",
    "        return self.hand[0].rank + self.hand[1].rank + suited\n",
    "    \n",
    "    def decideLevel1(self, previousAction, raiseAmount = 0):\n",
    "        if previousAction == None:\n",
    "            if raiseAmount > 0: return 'Call'\n",
    "            else: return 'Check'\n",
    "        elif previousAction == 'Bet' or previousAction == 'Raise': return 'Call'\n",
    "        elif previousAction == 'Call' or previousAction == 'Check': return 'Check'\n",
    "        \n",
    "            \n",
    "    def decideLevel2(self, previousAction, raiseAmount = 0):\n",
    "        n = len(self.currentRange)\n",
    "        odds = self.currentRange[self.generateHandAbbreviation()]\n",
    "        \n",
    "        if previousAction in ['Call', 'Check', None]:\n",
    "            if odds > self.currentRange.values()[int(round(self.raisePercent * n))]: \n",
    "                self.currentRange = OrderedDict(self.currentRange.items()[:int(round(self.raisePercent * n))])\n",
    "                return 'Bet'\n",
    "            elif raiseAmount > 0: return 'Call' \n",
    "            else: return 'Check'\n",
    "        elif previousAction == 'Bet' or previousAction == 'Raise':\n",
    "            if odds > self.currentRange.values()[int(round(self.raisePercent * self.callPercent * n))]: \n",
    "                self.currentRange = OrderedDict(self.currentRange.items()[:int(round(self.raisePercent * self.callPercent * n))])\n",
    "                return 'Raise'\n",
    "            elif odds > self.currentRange.values()[int(round(self.callPercent * n))]:\n",
    "                self.currentRange = OrderedDict(self.currentRange.items()[:int(round(self.callPercent * n))])\n",
    "                return 'Call'\n",
    "            else:\n",
    "                return 'Fold'\n",
    "        assert False\n",
    "    \n",
    "    def updateHandRange(self):\n",
    "        \n",
    "        #The AI that doesn't use a neural network would have a huge advantage if we didn't randomize their starting range\n",
    "        if self.AIlevel == 2:\n",
    "            self.preflopHandOdds = createPreflopOrderedRange(self.game.getHandPercentages())\n",
    "        if self.AIlevel == 3:\n",
    "            currentHandPercentages = np.array(self.game.getHandPercentages()).reshape(1,169)\n",
    "            overallHandPercentages = np.loadtxt(\"data\", unpack=True).reshape(1, 169)\n",
    "\n",
    "            train_x = currentHandPercentages\n",
    "            train_y = overallHandPercentages\n",
    "\n",
    "            n_x = train_x.shape[0]\n",
    "            n_y = train_y.shape[0]\n",
    "            layers_dims = [n_x, 50, 12, 5, n_y] #  This determines how many hidden layers the network will use\n",
    "\n",
    "            parameters = L_layer_model(train_x, train_y, layers_dims, learning_rate = .2, num_iterations = 100, print_cost = False, plotGraph = False, params = self.neuralParameters)\n",
    "            self.neuralParameters = parameters\n",
    "            \n",
    "            AL, caches = L_model_forward(currentHandPercentages, parameters)\n",
    "            \n",
    "            self.preflopHandOdds = OrderedDict(createPreflopOrderedRange(AL.reshape(13, 13)))\n",
    "\n",
    "    def decide(self, previousAction, raiseAmount = 0):\n",
    "        if self.isAI:\n",
    "            if self.AIlevel == 1: return self.decideLevel1(previousAction, raiseAmount)\n",
    "            elif self.AIlevel in [2,3]: return self.decideLevel2(previousAction, raiseAmount)\n",
    "            \n",
    "\n",
    "Player1 = Player(True, 2)\n",
    "Player2 = Player(True, 3)\n",
    "game = Game([Player1,Player2])\n",
    "Player1.game = game\n",
    "Player2.game = game\n",
    "game.output = False\n",
    "hands = 1\n",
    "neuralCosts = []\n",
    "currentCosts = []\n",
    "iterations = []\n",
    "for x in range(hands):\n",
    "    game.nextHand()\n",
    "    if game.outputDict['Betting'].count('Raise') > 4 and game.outputDict['Betting'].count('Call') > 0:\n",
    "        print game.outputDict['Text']\n",
    "        break\n",
    "\n"
   ]
  },
  {
   "cell_type": "code",
   "execution_count": null,
   "metadata": {
    "collapsed": true
   },
   "outputs": [],
   "source": [
    "def printStartingHandPercentages(number):\n",
    "    hands = number\n",
    "    game.output = False\n",
    "    for x in range(hands):\n",
    "        game.nextHand()\n",
    "    # This is for saving the data, but since running 10,000,000 hands took a few hours, I'm happy to stick with the results I have\n",
    "    '''\n",
    "    f = open(\"data\", \"w\")\n",
    "    np.savetxt(f, np.array([float(x) for x in np.array(startingHands).reshape(169,)]).reshape(13,13), fmt=\"%.3f\", header=\"starting hands\")\n",
    "    f.close()\n",
    "    hands = np.loadtxt(\"data\", unpack=True)\n",
    "    '''\n",
    "    print \"After \" + str(game.handsPlayed) + \" hands...\"\n",
    "    #print ['{:02.4f}'.format(game.getHandTypeResults()[x] * 100) for x in range(9)]\n",
    "\n",
    "    print \"      \" + str([\"  \" + deck.rank[y] + \"  \" for y in range(13)])\n",
    "    for y in range(13):\n",
    "        #print ['{:04.2f}'.format(game.preflopHandsPlayed[y][x] * (1326 / 2)  / game.handsPlayed).zfill(5) for x in range(13)]\n",
    "        print str([deck.rank[y]]) + \" \" + str(['{:03.3f}'.format(game.getHandPercentages()[y][x]) for x in range(13)])"
   ]
  },
  {
   "cell_type": "code",
   "execution_count": null,
   "metadata": {
    "collapsed": true
   },
   "outputs": [],
   "source": [
    "np.loadtxt(\"data\", unpack=True).reshape(1, 169)"
   ]
  },
  {
   "cell_type": "code",
   "execution_count": null,
   "metadata": {
    "collapsed": true
   },
   "outputs": [],
   "source": [
    "testPokerStartingHands()"
   ]
  }
 ],
 "metadata": {
  "kernelspec": {
   "display_name": "Python 2",
   "language": "python",
   "name": "python2"
  },
  "language_info": {
   "codemirror_mode": {
    "name": "ipython",
    "version": 2
   },
   "file_extension": ".py",
   "mimetype": "text/x-python",
   "name": "python",
   "nbconvert_exporter": "python",
   "pygments_lexer": "ipython2",
   "version": "2.7.14"
  }
 },
 "nbformat": 4,
 "nbformat_minor": 2
}
